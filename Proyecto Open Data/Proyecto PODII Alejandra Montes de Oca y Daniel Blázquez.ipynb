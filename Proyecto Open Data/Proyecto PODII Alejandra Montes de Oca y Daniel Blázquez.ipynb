{
 "cells": [
  {
   "cell_type": "markdown",
   "id": "9ed6bb6f",
   "metadata": {},
   "source": [
    "# Importamos las librerías necesarias"
   ]
  },
  {
   "cell_type": "code",
   "execution_count": 1,
   "id": "6dba4ac6",
   "metadata": {},
   "outputs": [],
   "source": [
    "import findspark\n",
    "findspark.init()\n",
    "from pyspark import SparkConf, SparkContext\n",
    "from pyspark.sql import SparkSession\n",
    "import pandas as pd\n",
    "import pyspark.sql.types as typ\n",
    "from pyspark.ml.feature import StringIndexer\n",
    "import pyspark.ml.feature as ft\n",
    "import numpy as np\n",
    "import pyspark.ml.classification as cl\n",
    "from pyspark.ml.classification import MultilayerPerceptronClassifier\n",
    "from pyspark.ml.evaluation import MulticlassClassificationEvaluator\n",
    "from pyspark.ml import Pipeline\n",
    "import pyspark.ml.tuning as tune\n",
    "import pyspark.ml.evaluation as ev\n",
    "from pyspark.ml.classification import RandomForestClassifier\n",
    "from pyspark.ml.classification import GBTClassifier\n",
    "from pyspark.sql.functions import when, lit\n",
    "import seaborn as sns\n",
    "import matplotlib.pyplot as plt"
   ]
  },
  {
   "cell_type": "code",
   "execution_count": 2,
   "id": "9d986198",
   "metadata": {},
   "outputs": [
    {
     "name": "stdout",
     "output_type": "stream",
     "text": [
      "3.6.13\n"
     ]
    }
   ],
   "source": [
    "from platform import python_version\n",
    "\n",
    "print(python_version())"
   ]
  },
  {
   "cell_type": "code",
   "execution_count": 3,
   "id": "1f02dc46",
   "metadata": {},
   "outputs": [],
   "source": [
    "from sklearn import metrics\n"
   ]
  },
  {
   "cell_type": "code",
   "execution_count": 4,
   "id": "6eab9dc7",
   "metadata": {},
   "outputs": [],
   "source": [
    "sc = SparkSession.builder.master(\"local[*]\").getOrCreate()"
   ]
  },
  {
   "cell_type": "code",
   "execution_count": 5,
   "id": "7f861811",
   "metadata": {},
   "outputs": [],
   "source": [
    "spark = SparkSession(sc)"
   ]
  },
  {
   "cell_type": "markdown",
   "id": "62303cfd",
   "metadata": {},
   "source": [
    "## Creamos las labels para el schema y el vector assembler"
   ]
  },
  {
   "cell_type": "code",
   "execution_count": 6,
   "id": "0f03c1d5",
   "metadata": {},
   "outputs": [],
   "source": [
    "labels = [\n",
    "    ('isFraud', typ.IntegerType()),\n",
    "    ('step', typ.IntegerType()),\n",
    "    ('d_amount', typ.IntegerType()),\n",
    "    ('d_oldbalanceOrg', typ.IntegerType()),\n",
    "    ('d_newbalanceOrig', typ.IntegerType()),\n",
    "    ('d_oldbalanceDest', typ.IntegerType()),\n",
    "    ('d_newbalanceDest', typ.IntegerType()),\n",
    "    ('isFlaggedFraud', typ.IntegerType()),\n",
    "    ('PAYMENT', typ.IntegerType()),\n",
    "    ('TRANSFER', typ.IntegerType()),\n",
    "    ('CASH_IN', typ.IntegerType()),\n",
    "    ('CASH_OUT', typ.IntegerType()),\n",
    "    ('DEBIT', typ.IntegerType())\n",
    "]\n",
    "schema = typ.StructType([\n",
    "    typ.StructField(e[0], e[1], False) for e in labels\n",
    "])\n"
   ]
  },
  {
   "cell_type": "code",
   "execution_count": 7,
   "id": "e65264db",
   "metadata": {},
   "outputs": [
    {
     "data": {
      "text/plain": [
       "[('d_amount', IntegerType),\n",
       " ('d_oldbalanceOrg', IntegerType),\n",
       " ('d_newbalanceOrig', IntegerType),\n",
       " ('d_oldbalanceDest', IntegerType),\n",
       " ('d_newbalanceDest', IntegerType)]"
      ]
     },
     "execution_count": 7,
     "metadata": {},
     "output_type": "execute_result"
    }
   ],
   "source": [
    "labels[2:7]"
   ]
  },
  {
   "cell_type": "code",
   "execution_count": 8,
   "id": "b2ebc11c",
   "metadata": {},
   "outputs": [],
   "source": [
    "df = spark.read.csv('fraude2.csv', \n",
    "                        header=True, \n",
    "                        inferSchema = 'true')"
   ]
  },
  {
   "cell_type": "code",
   "execution_count": 9,
   "id": "c4f3e2d5",
   "metadata": {},
   "outputs": [
    {
     "name": "stdout",
     "output_type": "stream",
     "text": [
      "+---+----+--------+------+-----------+-------------+--------------+----------+--------------+--------------+-------+--------------+\n",
      "|_c0|step|    type|amount|   nameOrig|oldbalanceOrg|newbalanceOrig|  nameDest|oldbalanceDest|newbalanceDest|isFraud|isFlaggedFraud|\n",
      "+---+----+--------+------+-----------+-------------+--------------+----------+--------------+--------------+-------+--------------+\n",
      "|  2|   1|TRANSFER| 181.0|C1305486145|        181.0|           0.0|C553264065|           0.0|           0.0|      1|             0|\n",
      "|  3|   1|CASH_OUT| 181.0| C840083671|        181.0|           0.0| C38997010|       21182.0|           0.0|      1|             0|\n",
      "|251|   1|TRANSFER|2806.0|C1420196421|       2806.0|           0.0|C972765878|           0.0|           0.0|      1|             0|\n",
      "+---+----+--------+------+-----------+-------------+--------------+----------+--------------+--------------+-------+--------------+\n",
      "only showing top 3 rows\n",
      "\n"
     ]
    }
   ],
   "source": [
    "df.show(3)"
   ]
  },
  {
   "cell_type": "code",
   "execution_count": 10,
   "id": "b4b55c45",
   "metadata": {},
   "outputs": [
    {
     "data": {
      "text/plain": [
       "[Row(type='TRANSFER'),\n",
       " Row(type='CASH_IN'),\n",
       " Row(type='CASH_OUT'),\n",
       " Row(type='PAYMENT'),\n",
       " Row(type='DEBIT')]"
      ]
     },
     "execution_count": 10,
     "metadata": {},
     "output_type": "execute_result"
    }
   ],
   "source": [
    "df.select('type').distinct().collect()"
   ]
  },
  {
   "cell_type": "code",
   "execution_count": 11,
   "id": "f952bf1b",
   "metadata": {},
   "outputs": [],
   "source": [
    "tipo = df.type"
   ]
  },
  {
   "cell_type": "markdown",
   "id": "050a60f0",
   "metadata": {},
   "source": [
    "## Creamos las dummies del tipo de pago"
   ]
  },
  {
   "cell_type": "code",
   "execution_count": 12,
   "id": "5a6eb5ec",
   "metadata": {},
   "outputs": [],
   "source": [
    "df2 = df.withColumn(\"PAYMENT\",\n",
    "                     when((df.type == \"PAYMENT\"), lit(1)).otherwise(lit(0)))\n",
    "\n",
    "df2 = df2.withColumn(\"TRANSFER\",\n",
    "                     when((df2.type == \"TRANSFER\"), lit(1)).otherwise(lit(0)))\n",
    "df2 = df2.withColumn(\"CASH_IN\",\n",
    "                     when((df2.type == \"CASH_IN\"), lit(1)).otherwise(lit(0)))\n",
    "df2 = df2.withColumn(\"CASH_OUT\",\n",
    "                     when((df2.type == \"CASH_OUT\"), lit(1)).otherwise(lit(0)))\n",
    "df2 = df2.withColumn(\"DEBIT\",\n",
    "                     when((df2.type == \"DEBIT\"), lit(1)).otherwise(lit(0)))"
   ]
  },
  {
   "cell_type": "code",
   "execution_count": 13,
   "id": "c31e7865",
   "metadata": {},
   "outputs": [
    {
     "name": "stdout",
     "output_type": "stream",
     "text": [
      "+---+----+--------+------+-----------+-------------+--------------+----------+--------------+--------------+-------+--------------+-------+--------+-------+--------+-----+\n",
      "|_c0|step|    type|amount|   nameOrig|oldbalanceOrg|newbalanceOrig|  nameDest|oldbalanceDest|newbalanceDest|isFraud|isFlaggedFraud|PAYMENT|TRANSFER|CASH_IN|CASH_OUT|DEBIT|\n",
      "+---+----+--------+------+-----------+-------------+--------------+----------+--------------+--------------+-------+--------------+-------+--------+-------+--------+-----+\n",
      "|  2|   1|TRANSFER| 181.0|C1305486145|        181.0|           0.0|C553264065|           0.0|           0.0|      1|             0|      0|       1|      0|       0|    0|\n",
      "|  3|   1|CASH_OUT| 181.0| C840083671|        181.0|           0.0| C38997010|       21182.0|           0.0|      1|             0|      0|       0|      0|       1|    0|\n",
      "+---+----+--------+------+-----------+-------------+--------------+----------+--------------+--------------+-------+--------------+-------+--------+-------+--------+-----+\n",
      "only showing top 2 rows\n",
      "\n"
     ]
    }
   ],
   "source": [
    "df2.show(2)"
   ]
  },
  {
   "cell_type": "markdown",
   "id": "5bf3e3a1",
   "metadata": {},
   "source": [
    "## Eliminamos las variables identificadoras"
   ]
  },
  {
   "cell_type": "code",
   "execution_count": 14,
   "id": "bd7f3850",
   "metadata": {},
   "outputs": [],
   "source": [
    "df3 = df2.drop('nameOrig')\n",
    "df3 = df3.drop('nameDest')"
   ]
  },
  {
   "cell_type": "markdown",
   "id": "6791dc4b",
   "metadata": {},
   "source": [
    "## Discretizamos"
   ]
  },
  {
   "cell_type": "code",
   "execution_count": 15,
   "id": "3756dfbe",
   "metadata": {},
   "outputs": [],
   "source": [
    "discretizer1 = ft.QuantileDiscretizer(\n",
    "numBuckets = 32,\n",
    "inputCol = 'amount',\n",
    "outputCol = 'd_amount')\n",
    "\n",
    "discretizer2 = ft.QuantileDiscretizer(\n",
    "numBuckets = 32,\n",
    "inputCol = 'oldbalanceOrg',\n",
    "outputCol = 'd_oldbalanceOrg')\n",
    "\n",
    "discretizer3 = ft.QuantileDiscretizer(\n",
    "numBuckets =  32,\n",
    "inputCol = 'newbalanceOrig',\n",
    "outputCol = 'd_newbalanceOrig')\n",
    "\n",
    "discretizer4 = ft.QuantileDiscretizer(\n",
    "numBuckets = 32,\n",
    "inputCol = 'oldbalanceDest',\n",
    "outputCol = 'd_oldbalanceDest')\n",
    "discretizer5 = ft.QuantileDiscretizer(\n",
    "numBuckets = 32,\n",
    "inputCol = 'newbalanceDest',\n",
    "outputCol = 'd_newbalanceDest')\n",
    "result = discretizer1.fit(df3).transform(df3)\n",
    "result = discretizer2.fit(result).transform(result)\n",
    "result = discretizer3.fit(result).transform(result)\n",
    "result = discretizer4.fit(result).transform(result)\n",
    "df3 = discretizer5.fit(result).transform(result)"
   ]
  },
  {
   "cell_type": "code",
   "execution_count": 16,
   "id": "6fa36038",
   "metadata": {},
   "outputs": [
    {
     "name": "stdout",
     "output_type": "stream",
     "text": [
      "+---------------------+-------------+---------------------+\n",
      "|max(d_oldbalanceDest)|max(d_amount)|max(d_newbalanceDest)|\n",
      "+---------------------+-------------+---------------------+\n",
      "|                 18.0|         31.0|                 20.0|\n",
      "+---------------------+-------------+---------------------+\n",
      "\n"
     ]
    }
   ],
   "source": [
    "df3.agg({'d_amount': 'max',\n",
    "               'd_oldbalanceDest': 'max',\n",
    "               'd_newbalanceDest':'max'}).show()"
   ]
  },
  {
   "cell_type": "markdown",
   "id": "d97d001c",
   "metadata": {},
   "source": [
    "## Creamos el Vector Assembler y dividimos el Dataframe"
   ]
  },
  {
   "cell_type": "code",
   "execution_count": 17,
   "id": "d32d3d8b",
   "metadata": {},
   "outputs": [],
   "source": [
    "featuresCreator = ft.VectorAssembler(\n",
    "    inputCols=[\n",
    "        col[0] \n",
    "        for col \n",
    "        in labels[1:]],\n",
    "    outputCol='features'\n",
    ")"
   ]
  },
  {
   "cell_type": "code",
   "execution_count": 18,
   "id": "9d543cd4",
   "metadata": {},
   "outputs": [],
   "source": [
    "normalizer = ft.StandardScaler(\n",
    "    inputCol=featuresCreator.getOutputCol(), \n",
    "    outputCol='normalized', \n",
    "    withMean=True,\n",
    "    withStd=True\n",
    ")"
   ]
  },
  {
   "cell_type": "code",
   "execution_count": 19,
   "id": "919e2af5",
   "metadata": {},
   "outputs": [],
   "source": [
    "train, test = df3.randomSplit([0.7, 0.3], seed=666)"
   ]
  },
  {
   "cell_type": "code",
   "execution_count": 20,
   "id": "8d0a52e7",
   "metadata": {},
   "outputs": [],
   "source": [
    "def confusion_matrix(df):\n",
    "    tp = df[(df.isFraud == 1) & (df.prediction == 1)].count()\n",
    "    tn = df[(df.isFraud == 0) & (df.prediction == 0)].count()\n",
    "    fp = df[(df.isFraud == 0) & (df.prediction == 1)].count()\n",
    "    fn = df[(df.isFraud == 1) & (df.prediction == 0)].count()\n",
    "    return [[tp,fp],[fn,tn]]"
   ]
  },
  {
   "cell_type": "markdown",
   "id": "8410051b",
   "metadata": {},
   "source": [
    "# Regresión logística"
   ]
  },
  {
   "cell_type": "code",
   "execution_count": 21,
   "id": "2068e80c",
   "metadata": {},
   "outputs": [],
   "source": [
    "logistic = cl.LogisticRegression(\n",
    "    maxIter=10, \n",
    "    regParam=0.01, \n",
    "    labelCol='isFraud')"
   ]
  },
  {
   "cell_type": "code",
   "execution_count": 22,
   "id": "ecbfc154",
   "metadata": {},
   "outputs": [],
   "source": [
    "pipeline = Pipeline(stages=[featuresCreator,normalizer,logistic])"
   ]
  },
  {
   "cell_type": "code",
   "execution_count": 23,
   "id": "6f1cb677",
   "metadata": {},
   "outputs": [],
   "source": [
    "model = pipeline.fit(train)"
   ]
  },
  {
   "cell_type": "code",
   "execution_count": 24,
   "id": "20d3d956",
   "metadata": {},
   "outputs": [],
   "source": [
    "test_model = model.transform(test)"
   ]
  },
  {
   "cell_type": "code",
   "execution_count": 25,
   "id": "1486d4e2",
   "metadata": {},
   "outputs": [],
   "source": [
    "evaluator = ev.BinaryClassificationEvaluator(\n",
    "    rawPredictionCol='probability', \n",
    "    labelCol='isFraud')"
   ]
  },
  {
   "cell_type": "code",
   "execution_count": 26,
   "id": "5acbe6c1",
   "metadata": {},
   "outputs": [
    {
     "name": "stdout",
     "output_type": "stream",
     "text": [
      "0.9813909911674834\n",
      "0.8319054839535748\n"
     ]
    }
   ],
   "source": [
    "print(evaluator.evaluate(test_model, \n",
    "     {evaluator.metricName: 'areaUnderROC'}))\n",
    "print(evaluator.evaluate(test_model, {evaluator.metricName: 'areaUnderPR'}))"
   ]
  },
  {
   "cell_type": "code",
   "execution_count": 27,
   "id": "36dc0238",
   "metadata": {},
   "outputs": [],
   "source": [
    "confusion_matrix1 = confusion_matrix(test_model)"
   ]
  },
  {
   "cell_type": "code",
   "execution_count": 28,
   "id": "caedb3b1",
   "metadata": {},
   "outputs": [
    {
     "data": {
      "text/plain": [
       "[[992, 0], [1533, 106752]]"
      ]
     },
     "execution_count": 28,
     "metadata": {},
     "output_type": "execute_result"
    }
   ],
   "source": [
    "confusion_matrix1"
   ]
  },
  {
   "cell_type": "code",
   "execution_count": 29,
   "id": "6089dcff",
   "metadata": {},
   "outputs": [
    {
     "data": {
      "text/plain": [
       "<AxesSubplot:>"
      ]
     },
     "execution_count": 29,
     "metadata": {},
     "output_type": "execute_result"
    },
    {
     "data": {
      "image/png": "[encoded data removed]",
      "text/plain": [
       "<Figure size 432x288 with 2 Axes>"
      ]
     },
     "metadata": {
      "needs_background": "light"
     },
     "output_type": "display_data"
    }
   ],
   "source": [
    "sns.heatmap(confusion_matrix1, annot=True)"
   ]
  },
  {
   "cell_type": "markdown",
   "id": "ecdc082c",
   "metadata": {},
   "source": [
    "Como podemos observar a pesar de no tener falsos negativos (0,1), tenemos un gran número de falsos positivos (1,0)"
   ]
  },
  {
   "cell_type": "code",
   "execution_count": 30,
   "id": "1dddd176",
   "metadata": {},
   "outputs": [
    {
     "name": "stderr",
     "output_type": "stream",
     "text": [
      "ERROR: Could not find a version that satisfies the requirement pyspark.ml.functions (from versions: none)\n",
      "ERROR: No matching distribution found for pyspark.ml.functions\n"
     ]
    }
   ],
   "source": [
    "!pip install pyspark.ml.functions"
   ]
  },
  {
   "cell_type": "code",
   "execution_count": 31,
   "id": "2d78c14a",
   "metadata": {},
   "outputs": [],
   "source": [
    "y_pred1 = test_model.select(test_model.prediction)\n",
    "y_true1 = test_model.select(test_model.isFraud)"
   ]
  },
  {
   "cell_type": "code",
   "execution_count": 32,
   "id": "54c27ecf",
   "metadata": {},
   "outputs": [
    {
     "name": "stdout",
     "output_type": "stream",
     "text": [
      "+-------+\n",
      "|isFraud|\n",
      "+-------+\n",
      "|      1|\n",
      "|      1|\n",
      "+-------+\n",
      "only showing top 2 rows\n",
      "\n"
     ]
    }
   ],
   "source": [
    "y_true1.show(2)"
   ]
  },
  {
   "cell_type": "code",
   "execution_count": 33,
   "id": "2d08c686",
   "metadata": {},
   "outputs": [
    {
     "data": {
      "text/plain": [
       "0.9829640287960112"
      ]
     },
     "execution_count": 33,
     "metadata": {},
     "output_type": "execute_result"
    }
   ],
   "source": [
    "evaluatorMulti = MulticlassClassificationEvaluator()\n",
    "evaluatorMulti = ev.MulticlassClassificationEvaluator(labelCol='isFraud')\n",
    "evaluatorMulti.evaluate(test_model)"
   ]
  },
  {
   "cell_type": "code",
   "execution_count": 34,
   "id": "7f8ded47",
   "metadata": {},
   "outputs": [
    {
     "data": {
      "text/plain": [
       "0.9829640287960112"
      ]
     },
     "execution_count": 34,
     "metadata": {},
     "output_type": "execute_result"
    }
   ],
   "source": [
    "evaluatorMulti.evaluate(test_model, {evaluator.metricName: \"recall\"})"
   ]
  },
  {
   "cell_type": "code",
   "execution_count": 35,
   "id": "160f2d39",
   "metadata": {},
   "outputs": [
    {
     "data": {
      "text/plain": [
       "0.9829640287960112"
      ]
     },
     "execution_count": 35,
     "metadata": {},
     "output_type": "execute_result"
    }
   ],
   "source": [
    "evaluatorMulti.evaluate(test_model, {evaluator.metricName: \"accuracy\"})"
   ]
  },
  {
   "cell_type": "code",
   "execution_count": 36,
   "id": "dc0ec01c",
   "metadata": {},
   "outputs": [
    {
     "data": {
      "text/plain": [
       "0.9829640287960112"
      ]
     },
     "execution_count": 36,
     "metadata": {},
     "output_type": "execute_result"
    }
   ],
   "source": [
    "evaluatorMulti.evaluate(test_model, {evaluator.metricName: \"prescision\"})"
   ]
  },
  {
   "cell_type": "markdown",
   "id": "e6a5e800",
   "metadata": {},
   "source": [
    "Como podemos observar el modelo de regresión logística presenta resultados demasiado buenos, por lo que probablemente presente overfitting o sea debido al desbalance de los datos"
   ]
  },
  {
   "cell_type": "markdown",
   "id": "c3c703dc",
   "metadata": {},
   "source": [
    "# Random Forest"
   ]
  },
  {
   "cell_type": "code",
   "execution_count": 37,
   "id": "4916ca0d",
   "metadata": {},
   "outputs": [],
   "source": [
    "rf = RandomForestClassifier(labelCol=\"isFraud\", featuresCol='features', numTrees=96)"
   ]
  },
  {
   "cell_type": "code",
   "execution_count": 38,
   "id": "002c7518",
   "metadata": {},
   "outputs": [],
   "source": [
    "pipeline2 = Pipeline(stages=[featuresCreator,normalizer,rf])"
   ]
  },
  {
   "cell_type": "code",
   "execution_count": 39,
   "id": "4ce34926",
   "metadata": {},
   "outputs": [],
   "source": [
    "model2 = pipeline2.fit(train)"
   ]
  },
  {
   "cell_type": "code",
   "execution_count": null,
   "id": "6357c31c",
   "metadata": {},
   "outputs": [],
   "source": []
  },
  {
   "cell_type": "code",
   "execution_count": 40,
   "id": "6432e609",
   "metadata": {},
   "outputs": [],
   "source": [
    "test_model2 = model2.transform(test)"
   ]
  },
  {
   "cell_type": "code",
   "execution_count": 41,
   "id": "fe32a7a3",
   "metadata": {},
   "outputs": [
    {
     "name": "stdout",
     "output_type": "stream",
     "text": [
      "0.9949001275464767\n",
      "0.9492899917293788\n"
     ]
    }
   ],
   "source": [
    "print(evaluator.evaluate(test_model2, \n",
    "     {evaluator.metricName: 'areaUnderROC'}))\n",
    "\n",
    "print(evaluator.evaluate(test_model2, {evaluator.metricName: 'areaUnderPR'}))\n",
    "\n"
   ]
  },
  {
   "cell_type": "code",
   "execution_count": 42,
   "id": "bf55bc8b",
   "metadata": {},
   "outputs": [],
   "source": [
    "confusion_matrix2 = confusion_matrix(test_model2)"
   ]
  },
  {
   "cell_type": "code",
   "execution_count": 43,
   "id": "a562e449",
   "metadata": {},
   "outputs": [
    {
     "data": {
      "text/plain": [
       "[[2036, 26], [489, 106726]]"
      ]
     },
     "execution_count": 43,
     "metadata": {},
     "output_type": "execute_result"
    }
   ],
   "source": [
    "confusion_matrix2"
   ]
  },
  {
   "cell_type": "code",
   "execution_count": 44,
   "id": "9e3139d0",
   "metadata": {},
   "outputs": [
    {
     "data": {
      "text/plain": [
       "[[2036, 26], [489, 106726]]"
      ]
     },
     "execution_count": 44,
     "metadata": {},
     "output_type": "execute_result"
    }
   ],
   "source": [
    "confusion_matrix2"
   ]
  },
  {
   "cell_type": "code",
   "execution_count": 45,
   "id": "af803fe4",
   "metadata": {},
   "outputs": [
    {
     "data": {
      "text/plain": [
       "<AxesSubplot:>"
      ]
     },
     "execution_count": 45,
     "metadata": {},
     "output_type": "execute_result"
    },
    {
     "data": {
      "image/png": "[encoded data removed]",
      "text/plain": [
       "<Figure size 432x288 with 2 Axes>"
      ]
     },
     "metadata": {
      "needs_background": "light"
     },
     "output_type": "display_data"
    }
   ],
   "source": [
    "sns.heatmap(confusion_matrix2, annot=True)"
   ]
  },
  {
   "cell_type": "markdown",
   "id": "edae1c39",
   "metadata": {},
   "source": [
    "En este caso tenemos un mejor número de falsos positivos y falsos negativos, si comparamos con el algoritmo anterior."
   ]
  },
  {
   "cell_type": "code",
   "execution_count": 46,
   "id": "555eb4d0",
   "metadata": {},
   "outputs": [
    {
     "data": {
      "text/plain": [
       "0.9950544562140451"
      ]
     },
     "execution_count": 46,
     "metadata": {},
     "output_type": "execute_result"
    }
   ],
   "source": [
    "evaluatorMulti.evaluate(test_model2)"
   ]
  },
  {
   "cell_type": "code",
   "execution_count": 47,
   "id": "0dc082d9",
   "metadata": {},
   "outputs": [
    {
     "data": {
      "text/plain": [
       "0.9950544562140451"
      ]
     },
     "execution_count": 47,
     "metadata": {},
     "output_type": "execute_result"
    }
   ],
   "source": [
    "evaluatorMulti.evaluate(test_model2, {evaluator.metricName: \"recall\"})"
   ]
  },
  {
   "cell_type": "code",
   "execution_count": 48,
   "id": "6ab91d5a",
   "metadata": {},
   "outputs": [
    {
     "data": {
      "text/plain": [
       "0.9950544562140451"
      ]
     },
     "execution_count": 48,
     "metadata": {},
     "output_type": "execute_result"
    }
   ],
   "source": [
    "evaluatorMulti.evaluate(test_model2, {evaluator.metricName: \"accuracy\"})"
   ]
  },
  {
   "cell_type": "code",
   "execution_count": 49,
   "id": "bbdd220b",
   "metadata": {},
   "outputs": [
    {
     "data": {
      "text/plain": [
       "0.9950544562140451"
      ]
     },
     "execution_count": 49,
     "metadata": {},
     "output_type": "execute_result"
    }
   ],
   "source": [
    "evaluatorMulti.evaluate(test_model2, {evaluator.metricName: \"prescision\"})"
   ]
  },
  {
   "cell_type": "markdown",
   "id": "9e70ba34",
   "metadata": {},
   "source": [
    "Al igual que con la regresión logística, deberíamos fijarnos solo en la matriz de confusión para evaluar el modelo debido al desbalance de los datos"
   ]
  },
  {
   "cell_type": "markdown",
   "id": "75e73dec",
   "metadata": {},
   "source": [
    "# Gradient Boost Classifier\n"
   ]
  },
  {
   "cell_type": "code",
   "execution_count": 50,
   "id": "37845c02",
   "metadata": {},
   "outputs": [],
   "source": [
    "gbt = GBTClassifier(labelCol=\"isFraud\", featuresCol=\"features\", maxIter=10)"
   ]
  },
  {
   "cell_type": "code",
   "execution_count": 51,
   "id": "058b3ffe",
   "metadata": {},
   "outputs": [],
   "source": [
    "pipeline3 = Pipeline(stages=[featuresCreator,normalizer,gbt])"
   ]
  },
  {
   "cell_type": "code",
   "execution_count": 52,
   "id": "38c43951",
   "metadata": {},
   "outputs": [],
   "source": [
    "model3 = pipeline3.fit(train)"
   ]
  },
  {
   "cell_type": "code",
   "execution_count": 53,
   "id": "6ca23892",
   "metadata": {},
   "outputs": [],
   "source": [
    "test_model3 = model3.transform(test)"
   ]
  },
  {
   "cell_type": "code",
   "execution_count": 54,
   "id": "869a5a7f",
   "metadata": {},
   "outputs": [
    {
     "name": "stdout",
     "output_type": "stream",
     "text": [
      "0.9972061997679087\n",
      "0.9638888975289519\n"
     ]
    }
   ],
   "source": [
    "print(evaluator.evaluate(test_model3, \n",
    "     {evaluator.metricName: 'areaUnderROC'}))\n",
    "\n",
    "print(evaluator.evaluate(test_model3, {evaluator.metricName: 'areaUnderPR'}))\n"
   ]
  },
  {
   "cell_type": "code",
   "execution_count": 59,
   "id": "5209710f",
   "metadata": {},
   "outputs": [],
   "source": [
    "confusion_matrix3 = confusion_matrix(test_model3)"
   ]
  },
  {
   "cell_type": "code",
   "execution_count": 60,
   "id": "92b495c5",
   "metadata": {},
   "outputs": [
    {
     "data": {
      "text/plain": [
       "[[2242, 57], [283, 106695]]"
      ]
     },
     "execution_count": 60,
     "metadata": {},
     "output_type": "execute_result"
    }
   ],
   "source": [
    "confusion_matrix3"
   ]
  },
  {
   "cell_type": "code",
   "execution_count": 61,
   "id": "80dd3c19",
   "metadata": {},
   "outputs": [
    {
     "data": {
      "text/plain": [
       "<AxesSubplot:>"
      ]
     },
     "execution_count": 61,
     "metadata": {},
     "output_type": "execute_result"
    },
    {
     "data": {
      "image/png": "[encoded data removed]",
      "text/plain": [
       "<Figure size 432x288 with 2 Axes>"
      ]
     },
     "metadata": {
      "needs_background": "light"
     },
     "output_type": "display_data"
    }
   ],
   "source": [
    "sns.heatmap(confusion_matrix3, annot=True)"
   ]
  },
  {
   "cell_type": "markdown",
   "id": "f3ae2e32",
   "metadata": {},
   "source": [
    "Al igual que con el random forest este algoritmo presenta muy buenos resultados"
   ]
  },
  {
   "cell_type": "code",
   "execution_count": 62,
   "id": "08289d11",
   "metadata": {},
   "outputs": [
    {
     "data": {
      "text/plain": [
       "0.9968174036125416"
      ]
     },
     "execution_count": 62,
     "metadata": {},
     "output_type": "execute_result"
    }
   ],
   "source": [
    "evaluatorMulti.evaluate(test_model3, {evaluator.metricName: \"recall\"})"
   ]
  },
  {
   "cell_type": "code",
   "execution_count": 63,
   "id": "5edda724",
   "metadata": {},
   "outputs": [
    {
     "data": {
      "text/plain": [
       "0.9968174036125416"
      ]
     },
     "execution_count": 63,
     "metadata": {},
     "output_type": "execute_result"
    }
   ],
   "source": [
    "evaluatorMulti.evaluate(test_model3, {evaluator.metricName: \"accuracy\"})"
   ]
  },
  {
   "cell_type": "code",
   "execution_count": 64,
   "id": "d6cc782a",
   "metadata": {},
   "outputs": [
    {
     "data": {
      "text/plain": [
       "0.9968174036125416"
      ]
     },
     "execution_count": 64,
     "metadata": {},
     "output_type": "execute_result"
    }
   ],
   "source": [
    "evaluatorMulti.evaluate(test_model3, {evaluator.metricName: \"prescision\"})"
   ]
  },
  {
   "cell_type": "markdown",
   "id": "0becb779",
   "metadata": {},
   "source": [
    "# Aplicamos ajuste de hiperparámetros a los modelos"
   ]
  },
  {
   "cell_type": "markdown",
   "id": "a7da6199",
   "metadata": {},
   "source": [
    "## Random Forest"
   ]
  },
  {
   "cell_type": "code",
   "execution_count": 65,
   "id": "8310be3d",
   "metadata": {},
   "outputs": [],
   "source": [
    "rf2 = RandomForestClassifier(labelCol=\"isFraud\", featuresCol='features', numTrees=96)\n",
    "grid = tune.ParamGridBuilder().addGrid(rf2.numTrees, [96, 192, 384]).addGrid(rf2.maxDepth, [5, 6, 7]).build()"
   ]
  },
  {
   "cell_type": "code",
   "execution_count": 66,
   "id": "36f81f29",
   "metadata": {},
   "outputs": [],
   "source": [
    "evaluator = ev.BinaryClassificationEvaluator(rawPredictionCol='probability', labelCol='isFraud')"
   ]
  },
  {
   "cell_type": "code",
   "execution_count": 67,
   "id": "04ceeeb7",
   "metadata": {},
   "outputs": [],
   "source": [
    "cv = tune.CrossValidator(estimator=rf2, estimatorParamMaps=grid, evaluator=evaluator)"
   ]
  },
  {
   "cell_type": "code",
   "execution_count": 68,
   "id": "14908785",
   "metadata": {},
   "outputs": [],
   "source": [
    "pipeline4 = Pipeline(stages=[featuresCreator])\n",
    "data_transformer = pipeline4.fit(train)"
   ]
  },
  {
   "cell_type": "code",
   "execution_count": null,
   "id": "264a9cc4",
   "metadata": {},
   "outputs": [],
   "source": [
    "cvModel = cv.fit(data_transformer.transform(train))"
   ]
  },
  {
   "cell_type": "code",
   "execution_count": null,
   "id": "ea839997",
   "metadata": {},
   "outputs": [],
   "source": [
    "data_train = data_transformer.transform(births_test)\n",
    "results = cvModel.transform(data_train)\n",
    "\n",
    "print(evaluator.evaluate(results, {evaluator.metricName: 'areaUnderROC'}))\n",
    "print(evaluator.evaluate(results, {evaluator.metricName: 'areaUnderPR'}))"
   ]
  },
  {
   "cell_type": "code",
   "execution_count": null,
   "id": "09f03e22",
   "metadata": {},
   "outputs": [],
   "source": [
    "results = [\n",
    "    (\n",
    "        [\n",
    "            {key.name: paramValue} \n",
    "            for key, paramValue \n",
    "            in zip(\n",
    "                params.keys(), \n",
    "                params.values())\n",
    "        ], metric\n",
    "    ) \n",
    "    for params, metric \n",
    "    in zip(\n",
    "        cvModel.getEstimatorParamMaps(), \n",
    "        cvModel.avgMetrics\n",
    "    )\n",
    "]\n",
    "\n",
    "sorted(results, key=lambda el: el[1], reverse=True)[0]"
   ]
  },
  {
   "cell_type": "markdown",
   "id": "89ea9262",
   "metadata": {},
   "source": [
    "## Gradient Boost"
   ]
  },
  {
   "cell_type": "code",
   "execution_count": null,
   "id": "e85cfc50",
   "metadata": {},
   "outputs": [],
   "source": [
    "gbt2 = GBTClassifier(labelCol=\"isFraud\", featuresCol=\"features\", maxIter=10)\n",
    "grid = tune.ParamGridBuilder().addGrid(gbt2.maxIter, [5, 10, 20]).build()"
   ]
  },
  {
   "cell_type": "code",
   "execution_count": null,
   "id": "cfb6d217",
   "metadata": {},
   "outputs": [],
   "source": [
    "cv = tune.CrossValidator(estimator=gbt2, estimatorParamMaps=grid, evaluator=evaluator)"
   ]
  },
  {
   "cell_type": "code",
   "execution_count": null,
   "id": "d56a0200",
   "metadata": {},
   "outputs": [],
   "source": [
    "pipeline4 = Pipeline(stages=[featuresCreator])\n",
    "data_transformer = pipeline4.fit(train)"
   ]
  },
  {
   "cell_type": "code",
   "execution_count": null,
   "id": "6ecc4914",
   "metadata": {},
   "outputs": [],
   "source": [
    "cvModel = cv.fit(data_transformer.transform(train))"
   ]
  },
  {
   "cell_type": "code",
   "execution_count": null,
   "id": "1b7a667f",
   "metadata": {},
   "outputs": [],
   "source": [
    "data_train = data_transformer.transform(test)\n",
    "results = cvModel.transform(data_train)\n",
    "\n",
    "print(evaluator.evaluate(results, {evaluator.metricName: 'areaUnderROC'}))\n",
    "print(evaluator.evaluate(results, {evaluator.metricName: 'areaUnderPR'}))"
   ]
  },
  {
   "cell_type": "code",
   "execution_count": null,
   "id": "7b78f819",
   "metadata": {},
   "outputs": [],
   "source": [
    "results = [\n",
    "    (\n",
    "        [\n",
    "            {key.name: paramValue} \n",
    "            for key, paramValue \n",
    "            in zip(\n",
    "                params.keys(), \n",
    "                params.values())\n",
    "        ], metric\n",
    "    ) \n",
    "    for params, metric \n",
    "    in zip(\n",
    "        cvModel.getEstimatorParamMaps(), \n",
    "        cvModel.avgMetrics\n",
    "    )\n",
    "]\n",
    "\n",
    "sorted(results, key=lambda el: el[1], reverse=True)[0]"
   ]
  },
  {
   "cell_type": "markdown",
   "id": "ce39a019",
   "metadata": {},
   "source": [
    "En el caso del gradient boost parce indiferente el número de iteraciones"
   ]
  },
  {
   "cell_type": "markdown",
   "id": "6d99d7da",
   "metadata": {},
   "source": [
    "## Aplicamos PCA para ver si mejora el modelo"
   ]
  },
  {
   "cell_type": "code",
   "execution_count": null,
   "id": "0248f0a0",
   "metadata": {},
   "outputs": [],
   "source": [
    "from pyspark.ml.feature import PCA\n",
    "\n",
    "pca = PCA(k=6, inputCol='features', outputCol='pcaFeatures')\n",
    "gbt = GBTClassifier(labelCol=\"isFraud\", featuresCol=\"pcaFeatures\", maxIter=10)\n",
    "\n",
    "pipelinepca= Pipeline(stages=[featuresCreator, pca, gbt])\n",
    "modelpca = pipelinepca.fit(train).transform(test)"
   ]
  },
  {
   "cell_type": "code",
   "execution_count": null,
   "id": "28dff200",
   "metadata": {},
   "outputs": [],
   "source": [
    "confusion_matrix5 = confusion_matrix(modelpca)"
   ]
  },
  {
   "cell_type": "code",
   "execution_count": null,
   "id": "f88675d1",
   "metadata": {},
   "outputs": [],
   "source": [
    "confusion_matrix5"
   ]
  },
  {
   "cell_type": "markdown",
   "id": "e3ecc51d",
   "metadata": {},
   "source": [
    "Como podemos observar no encontramos una mejoría notable, además perdemos interpretabilidad por lo que definitivamente no merece la pena aplicar PCA"
   ]
  },
  {
   "cell_type": "markdown",
   "id": "bd7ec7b5",
   "metadata": {},
   "source": [
    "# Conclusiones"
   ]
  },
  {
   "cell_type": "markdown",
   "id": "162b85df",
   "metadata": {},
   "source": [
    "Tanto el random forest como el gradient boost presentan buenos datos en la matrix de confusión. Sería conveniente probar con datos más balanceados o algoritmos más potentes como una red neuronal. A pesar de ello podemos decir que son buenos modelos que pueden ser aplicados."
   ]
  },
  {
   "cell_type": "markdown",
   "id": "378ac705",
   "metadata": {},
   "source": [
    "Link presentación: https://view.genial.ly/6282aa29c84f020011302951/interactive-image-imagen-interactiva"
   ]
  },
  {
   "cell_type": "code",
   "execution_count": null,
   "id": "e94c1df5",
   "metadata": {},
   "outputs": [],
   "source": []
  }
 ],
 "metadata": {
  "kernelspec": {
   "display_name": "Python 3 (ipykernel)",
   "language": "python",
   "name": "python3"
  },
  "language_info": {
   "codemirror_mode": {
    "name": "ipython",
    "version": 3
   },
   "file_extension": ".py",
   "mimetype": "text/x-python",
   "name": "python",
   "nbconvert_exporter": "python",
   "pygments_lexer": "ipython3",
   "version": "3.8.3"
  }
 },
 "nbformat": 4,
 "nbformat_minor": 5
}
